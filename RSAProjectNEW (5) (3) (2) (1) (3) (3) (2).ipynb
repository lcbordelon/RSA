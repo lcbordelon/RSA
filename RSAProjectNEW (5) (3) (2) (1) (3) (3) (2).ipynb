{
 "cells": [
  {
   "cell_type": "markdown",
   "metadata": {},
   "source": [
    "## RSA - The Project"
   ]
  },
  {
   "source": [
    "Name: Lindsay Bordelon \n",
    "\n",
    "Moodle Email: libo1105@colorado.edu\n",
    "\n",
    "*Name your file \"cuidentikey\".ipynb *  This means YOUR identikey. \n",
    "\n",
    "\n",
    "* Reminder - ALL CODE MUST BE WELL COMMENTED AND EASY TO READ - SEE MOODLE\n",
    "* MUST USE A MIX OF CODE AND TEXT BLOCKS.\n",
    "* A Jupyter Notebook is an interactive document - not a long scroll of code and commments.\n",
    "* Do NOT delete instructions and given comments in the code. You may modify for you own use later.\n",
    "* This is an important part of your course grade. All work must be well explained and well organized. Sloppy, rushed, incomplete, or otherwise demonstrating minimial effort will not recieve full credit. \n",
    "\n"
   ],
   "cell_type": "code",
   "metadata": {},
   "execution_count": null,
   "outputs": []
  },
  {
   "cell_type": "markdown",
   "metadata": {},
   "source": [
    "<hr />\n",
    "\n",
    "# Table of Contents\n",
    "\n",
    "### 1. Introduction  (5 points)\n",
    "\n",
    "### 2. RSA Code Package    (10 points)\n",
    "###### &nbsp;&nbsp;&nbsp;&nbsp;&nbsp;&nbsp; 2.1 Basic tool set\n",
    "###### &nbsp;&nbsp;&nbsp;&nbsp;&nbsp;&nbsp; 2.2 First tool set\n",
    "###### &nbsp;&nbsp;&nbsp;&nbsp;&nbsp;&nbsp; 2.3 Second tool set\n",
    "\n",
    "### 3. RSA More Code  (10 points)\n",
    "\n",
    "###### &nbsp;&nbsp;&nbsp;&nbsp;&nbsp;&nbsp;  Encode\n",
    "###### &nbsp;&nbsp;&nbsp;&nbsp;&nbsp;&nbsp;  Decode\n",
    "\n",
    "### 4. Show a demo of encoding and decoding a message that highlights how your code works and the steps involved.   (20points)\n",
    "\n",
    "### 5. Project Narrative AND results of exchanging codes with others.  (20 points)\n",
    "\n",
    "### 6. Testing and comparing FME to mod.       (10 points)\n",
    "\n",
    "### Points for 7 - 8 only available if the student is exchanging messages by the Friday (midnight) before the project is due.\n",
    "\n",
    "### 7. Breaking codes without a private key    (10 points)\n",
    "\n",
    "### 8. Advanced options (15 points) Needed to get 100%.\n",
    "\n",
    "\n",
    "\n",
    "\n",
    "\n",
    "\n",
    "\n",
    "\n"
   ]
  },
  {
   "cell_type": "markdown",
   "metadata": {},
   "source": []
  },
  {
   "cell_type": "markdown",
   "metadata": {},
   "source": []
  },
  {
   "cell_type": "markdown",
   "metadata": {},
   "source": []
  },
  {
   "cell_type": "markdown",
   "metadata": {},
   "source": [
    "\n",
    "\n",
    "\n",
    "\n",
    "\n"
   ]
  },
  {
   "cell_type": "markdown",
   "metadata": {},
   "source": [
    "\n",
    "\n",
    "\n",
    "\n",
    "\n",
    "\n",
    "### 1. Introduction to your RSA Package and Project.  Give an overview of your project and what you have learned. "
   ]
  },
  {
   "cell_type": "markdown",
   "metadata": {},
   "source": [
    "Put introduction/overview here. This should be something someone who has never seen your project could read to understand what is coming. \n"
   ]
  },
  {
   "cell_type": "markdown",
   "metadata": {},
   "source": [
    "### 2.1\n",
    "#### Basic tool set\n",
    "\n",
    "These are functions that you'll need to pre-process the messages before the messages are encoded and decoded by the RSA algorithm. That is the reason we will be defining them first.\n",
    "\n"
   ]
  },
  {
   "cell_type": "code",
   "execution_count": 1,
   "metadata": {},
   "outputs": [],
   "source": [
    "def Convert_Text(_string):\n",
    "    \"\"\"\n",
    "    Define this function such that it takes in a simple \n",
    "    string such as \"hello\" and outputs the corresponding\n",
    "    standard list of integers (ascii) for each letter in the word hello.\n",
    "    For example:\n",
    "    _string = hello\n",
    "    integer_list = [104, 101, 108, 108, 111]\n",
    "    \"\"\"\n",
    "    integer_list = []\n",
    "    return integer_list"
   ]
  },
  {
   "cell_type": "code",
   "execution_count": 2,
   "metadata": {},
   "outputs": [],
   "source": [
    "def Convert_Num(_list):\n",
    "    \"\"\"\n",
    "    Do the opposite of what you did in the Convert_Text\n",
    "    function defined above.\n",
    "    \n",
    "    Define this function such that it takes in a list of integers\n",
    "    and outputs the corresponding string (ascii).\n",
    "    \n",
    "    For example:\n",
    "    _list = [104, 101, 108, 108, 111]\n",
    "    _string = hello\n",
    "    \"\"\"\n",
    "    _string = ''\n",
    "    for i in _list:\n",
    "        _string += chr(i)\n",
    "    return _string"
   ]
  },
  {
   "cell_type": "code",
   "execution_count": 3,
   "metadata": {},
   "outputs": [],
   "source": [
    "def Convert_Binary_String(_int):\n",
    "    \"\"\"\n",
    "    Here, you need to define a function that converts an integer to\n",
    "    a string of its binary expansion.\n",
    "    \n",
    "    For example:\n",
    "    _int = 345\n",
    "    bits = 101011001\n",
    "    \"\"\"\n",
    "    \n",
    "    return bits"
   ]
  },
  {
   "cell_type": "markdown",
   "metadata": {},
   "source": [
    "Now that you're done with the basic toolset we'll move on to the first tool set which is actually involved in the RSA system."
   ]
  },
  {
   "cell_type": "markdown",
   "metadata": {},
   "source": [
    "### 2.2 \n",
    "#### First tool set.\n",
    "\n"
   ]
  },
  {
   "cell_type": "code",
   "execution_count": 4,
   "metadata": {},
   "outputs": [],
   "source": [
    "def FME(b, n, m):\n",
    "    \"\"\"\n",
    "    1. Using the fast modular exponentiation algorithm,\n",
    "    the below function should return b**n mod m.\n",
    "    As described on page 254. (however, you may input the exponent and \n",
    "    then convert it to a string - the book verison imports the binary expansion)  \n",
    "    2. You should use the function defined above\n",
    "    Convert_Binary_String()\n",
    "    3. Use this string to test which components are used in the calculation.\n",
    "    4. Yes, there are many other ways to do this. \n",
    "\n",
    "***UPDATE*** You may use the function you developed in your problem set - but be sure it is your own work, commented, etc.. and change inputs as needed.\n",
    "    \"\"\"  "
   ]
  },
  {
   "cell_type": "code",
   "execution_count": 5,
   "metadata": {},
   "outputs": [],
   "source": [
    "def Euclidean_Alg(a, b):\n",
    "    \"\"\"\n",
    "    1. Calculate the Greatest Common Divisor of a and b.\n",
    "    \n",
    "    2. Unless b==0, the result will have the same sign as b (so that when\n",
    "    b is divided by it, the result comes out positive).\n",
    "    The function must return a single integer 'x' which is\n",
    "    the gcd of a and b.\n",
    "    \"\"\""
   ]
  },
  {
   "cell_type": "markdown",
   "metadata": {},
   "source": [
    "### 2.3\n",
    "#### Second tool set\n",
    "\n",
    "Here we will implement the meat of the RSA cryptosystem. The functions below will generate the public and private key pairs which will then be used to create a ciphertext using the public key and then decode the same using the pirvate key.\n",
    "\n"
   ]
  },
  {
   "cell_type": "code",
   "execution_count": 6,
   "metadata": {},
   "outputs": [],
   "source": [
    "def Find_Public_Key_e(p, q):\n",
    "    \"\"\"\n",
    "    Implement this function such that\n",
    "    it takes 2 primes p and q.\n",
    "    \n",
    "    Use the gcd function that you have \n",
    "    defined before.\n",
    "    \n",
    "    The function should return 2 elements as follows:\n",
    "    public key: n\n",
    "    public key: e\n",
    "    \n",
    "    \n",
    "    HINT: this function will run a loop to find e such \n",
    "    that e is relatively prime to (p - 1) (q - 1) \n",
    "    and not equal to p or q.\n",
    "    \"\"\""
   ]
  },
  {
   "cell_type": "code",
   "execution_count": 7,
   "metadata": {},
   "outputs": [],
   "source": [
    "def Find_Private_Key_d(e, p, q):\n",
    "    \"\"\"\n",
    "    Implement this method\n",
    "    to find the decryption exponent d such that\n",
    "    d is the modular inverse of e. \n",
    "    \n",
    "    This will use the Extended Euclidean Algorithm\n",
    "    \n",
    "    This function should return the following:\n",
    "    d: the decryption component.\n",
    "    \"\"\""
   ]
  },
  {
   "cell_type": "markdown",
   "metadata": {},
   "source": [
    "### 3.\n",
    "#### Putting things all together.\n",
    "\n",
    "1. In this part, you will define two functions `Encode` and `Decode` which will use the public and private keys that you calculated using the above 2 functions in the second toolset.\n",
    "2. Using the public key, the `Encode` function will encode a message and generate the corresponding cipher_text.\n",
    "3. Using the private key, the `Decode` function will decode a ciper_text and recover the original message.\n",
    "\n"
   ]
  },
  {
   "cell_type": "code",
   "execution_count": 8,
   "metadata": {},
   "outputs": [],
   "source": [
    "def Encode(n, e, message):\n",
    "    \"\"\"\n",
    "    Here, the message will be a string of characters.\n",
    "    Use the function Convert_Text from \n",
    "    the basic tool set and get a list of numbers.\n",
    "    \n",
    "    Encode each of those numbers using n and e and\n",
    "    return the encoded cipher_text.\n",
    "    \"\"\"\n",
    "    cipher_text = []\n",
    "    return cipher_text"
   ]
  },
  {
   "cell_type": "code",
   "execution_count": 9,
   "metadata": {},
   "outputs": [],
   "source": [
    "def Decode(n, d, cipher_text):\n",
    "    \"\"\"\n",
    "    Here, the cipher_text will be a list of integers.\n",
    "    First, you will decrypt each of those integers using \n",
    "    n and d.\n",
    "    Later, you will need to use the function Convert_Num, that converts the integers to a string, \n",
    "    from the basic toolset to recover the original message as a string. \n",
    "    \n",
    "    \"\"\"\n",
    "    message = ''\n",
    "    return message"
   ]
  },
  {
   "cell_type": "markdown",
   "metadata": {},
   "source": [
    "### 4.  Demonstrate how your RSA works below using a mix of text and code blocks that make it clear to the reader how this works and why you chose to put it together the way you did:\n",
    "\n",
    "* This is a step by step guide to using your code with a specific example that I can follow.\n",
    "\n",
    "* Encode a message (including generating keys).\n",
    "\n",
    "* Publish your public key and message to Piazza.\n",
    "\n",
    "* Decode messages from Piazza.\n",
    "\n",
    "* Test!\n",
    "\n",
    "\n",
    "\n"
   ]
  },
  {
   "cell_type": "code",
   "execution_count": 10,
   "metadata": {},
   "outputs": [],
   "source": [
    "##  demo here in mix of text and code blocks ## "
   ]
  },
  {
   "cell_type": "markdown",
   "metadata": {},
   "source": [
    "If you create a custom main function or a script to read codes as your CUSTOM FEATURE, you may include it here with a large heading CUSTOM FEATURE:"
   ]
  },
  {
   "cell_type": "code",
   "execution_count": null,
   "metadata": {},
   "outputs": [],
   "source": []
  },
  {
   "cell_type": "code",
   "execution_count": null,
   "metadata": {},
   "outputs": [],
   "source": []
  },
  {
   "cell_type": "code",
   "execution_count": null,
   "metadata": {},
   "outputs": [],
   "source": []
  },
  {
   "source": [
    "### 5. **Insert Narrative (ONE OR TWO pages of meaningful narrative about your process - not including the examples) here in this block. **\n",
    "\n",
    "* Describe the results of SPECIFIC exchanging keys and codes with classmates. (at least 3 complete examples).\n",
    "#Example 1:\n",
    "\n",
    "#Example 2:\n",
    "\n",
    "#Example 3:\n",
    "\n",
    "* What was challenging? \n",
    "#This entire project was challenging for me. Although I have experience coding with full stack languages, coding with this level of math was outside of my comfort zone. The hardest part was how time consuming it was for me to FULLY understand the big functions (FME, EEA, Factoring). I'm happy that I took the time to understand what each function does, but it took away time that I could've spend doing more advanced functions. \n",
    "\n",
    "* Who helped you with your project? \n",
    "#Piazza, Kristen, and the developers I work with at work (though they could hardly remember RSA from school :)). \n",
    "\n",
    "* Which resources were most helpful?\n",
    "#The most helpful resources for me were Python documentation (troubleshooting why my functions weren't working), people's discussions on Piazza, and my past Mastery Workbooks. I also talked through some of the bigger functions with the developers that I work with. Talking through the functions was probably the most impactful thing I did during the entire project. It really forced me to articulate what I thought the function was doing, even if I was lost. \n",
    "\n",
    "* What was your Best Mistake, (funniest? most frustrating? the one you learned the most from?)\n",
    "#Best/biggest mistake (can probably still see remnants of it...) was having my functions separated to the point where I had to copy/paste the encoded message and decoded message into their specific parts in the code for the functions to run properly. This was mostly amateur python mistakes, but definitely something that I learned a ton from. Although it was a 'mistake', it significantly helped me in writing code from algorithms. It forced me to think about which step each function needed to accomplish and the steps required within each function. I was proud of myself for how much of the code I got right on the first try. \n",
    "#Another mistake that may not be a mistake is with the brute force factoring. When I tried to code break a large n, it took my computer hours to process it before I eventually terminated the process. I wish I could've spent more time on advanced factoring and Pollard's Rho, but I simply ran out of time. \n",
    "\n",
    "* Again, be sure to include results and a discussion of specific exchanges with others.\n",
    "\n",
    "\n",
    "\n"
   ],
   "cell_type": "code",
   "metadata": {},
   "execution_count": null,
   "outputs": []
  },
  {
   "source": [
    "### 6. FME Exploration - (CODE INTERVIEW type question)\n",
    "\n",
    "\n",
    "\n",
    "* Explain in detail (give an example) why RSA needs to use an FME function and cannot just simply use the Python Mod function % .\n",
    "\n",
    "* You may use your arguments from the Number theory Mastery Workbook.\n",
    "\n",
    "* You may wish to use an example from code breaking.\n"
   ],
   "cell_type": "code",
   "metadata": {},
   "execution_count": null,
   "outputs": [
    {
     "output_type": "error",
     "ename": "Error",
     "evalue": "IPyKernel not installed into interpreter Python 3.9.5 64-bit:C:\\Python39\\python.exe",
     "traceback": [
      "Error: IPyKernel not installed into interpreter Python 3.9.5 64-bit:C:\\Python39\\python.exe",
      "at w.handleKernelDependencyResponse (c:\\Users\\lcbor\\.vscode\\extensions\\ms-toolsai.jupyter-2021.6.999662501\\out\\client\\extension.js:90:244702)",
      "at w.installMissingDependencies (c:\\Users\\lcbor\\.vscode\\extensions\\ms-toolsai.jupyter-2021.6.999662501\\out\\client\\extension.js:90:244075)",
      "at runMicrotasks (<anonymous>)",
      "at processTicksAndRejections (internal/process/task_queues.js:93:5)"
     ]
    }
   ]
  },
  {
   "cell_type": "code",
   "execution_count": null,
   "metadata": {},
   "outputs": [],
   "source": []
  },
  {
   "cell_type": "code",
   "execution_count": null,
   "metadata": {},
   "outputs": [],
   "source": []
  },
  {
   "cell_type": "code",
   "execution_count": null,
   "metadata": {},
   "outputs": [],
   "source": []
  },
  {
   "cell_type": "markdown",
   "metadata": {},
   "source": [
    "## CODE BREAKING ##\n",
    "\n",
    "This section of the project is only available to students exchanging codes by the Friday (midnight) before the project is due.\n",
    "\n",
    "After you have tested your RSA package yourself, and tested it with classmates by publishing both the private and public keys on Piazza, post 2 messages with just the public keys for people to break on the \"Just Public Keys\" thread - use both very small n ‘s (under 1000) for practice, and some with a challenge.\n",
    "\n",
    "\n",
    "**Implementing a factoring algorithm:**\n",
    "\n",
    "Begin by coding the basic brute force factorization algorithm given in pseudocode below.\n",
    "\n",
    "Brute Force Factoring\n",
    "<pre><code>def factorize(n):\n",
    "    # n is a number, return the smallest factor of n\n",
    "    for i from 2 to n-1:\n",
    "        if i divides n:\n",
    "            return i\n",
    "        return FALSE\n",
    "        </code></pre>\n"
   ]
  },
  {
   "cell_type": "markdown",
   "metadata": {},
   "source": [
    "### 7. Do the following for full credit in number 7\n",
    "* To break others’ code you just need to factor n (public key). **Explain how and why code breaking works in a text block.**\n",
    "\n",
    "* Demonstrate 1 example of breaking a code with a small n, and show the steps involved.\n",
    "\n",
    "* Now attempt codes with larger n\n",
    "\n",
    "* Describe your attempt to break codes with large n. At what values would you say n's get difficult? (too large to factor)\n",
    "\n",
    "* Show COMPLETELY at least 3 codes you broke and/or codes of your that were broken.\n",
    "\n",
    "\n",
    "\n"
   ]
  },
  {
   "source": [
    "#####CODE BREAKING####################\n",
    "##The basis of code breaking is that we're trying to find the smallest factor of n that can be used as p. \n",
    "##We want p to be a smaller factor of n, but can be any factor that can be multiplied by a factor q to give us n = p * q. \n",
    "##We need p & q as guidance for what we select for e. e, p & q are needed for the Find_Private_key_d function, that uses the\n",
    "##Extended Euclidean Algorithm to find d. \n",
    "##Once I have d, I can use the Decode function to decode the cipher text. \n",
    "\n",
    "\n",
    "def factorize(n):\n",
    "    for i in range(2, n - 1):\n",
    "        if n % i == 0 and i % 2 != 0 and i % 5 != 0:\n",
    "            print(i)\n",
    "            return i\n",
    "\n",
    "\n",
    "n = 130177\n",
    "\n",
    "print(\"factoring n:\", factorize(n))\n",
    "\n",
    "p = factorize(n)\n",
    "q = n // p\n",
    "print(\"this is q:\", q)\n",
    "\n",
    "\n",
    "def main(p, q, e):\n",
    "\n",
    "    w = (p - 1) * (q - 1)\n",
    "\n",
    "    gcd, x, y = Find_Private_Key_d(e, w)\n",
    "    d = x\n",
    "\n",
    "    return d\n",
    "\n",
    "\n",
    "p = factorize(n)\n",
    "q = n // p\n",
    "e = 13\n",
    "\n",
    "print(\"This is d:\", main(p, q, e))\n",
    "\n",
    "####Decode examples\n",
    "##Examples below use portions of the code, not the entire Main() function\n",
    "#Example 1:  n = 130177; e = 13. This is a relatively small n.\n",
    "#I insert 130177 for n and 13 for e in the code block above and then run the factorize and main function.\n",
    "#It returns p = 349, q = 373, d = 59749.\n",
    "#I input 59749 as d for the Decode function. I input the cipher text and run the Decode function.\n",
    "#The Decode function return the list of integers that I input into the Convert_Num function\n",
    "#Running the Convert_Num function gives me the final message. \n",
    "#Decoded Message: [84, 104, 101, 32, 98, 101, 115, 116, 32, 116, 104, 105, 110, 103, 32, 97, 98, 111, 117, 116, 32, 97, 32, 66, 111, 111, 108, 101, 97, 110, 32, 105, 115, 32, 101, 118, 101, 110, 32, 105, 102, 32, 121, 111, 117, 32, 97, 114, 101, 32, 119, 114, 111, 110, 103, 44, 32, 121, 111, 117, 32, 97, 114, 101, 32, 111, 110, 108, 121, 32, 111, 102, 102, 32, 98, 121, 32, 97, 32, 98, 105, 116, 46]\n",
    "#Final Message: \"The best thing about a Boolean is even if you are wrong, you are only off by a bit.\"\n",
    "\n",
    "#Example 2: n = 28794290241716387; e = 113. Bigger n.\n",
    "#I insert 28794290241716387 for n and 113 for e in the code block above and then run the factorize and main function.\n",
    "#It returns p = 160481219, q = 179424673, d = 5096334495895663\n",
    "#This took MUCH longer than the previous example (I walked away from my computer). \n",
    "#It also returned a negative d on the first run. I then added abs() to the d and it returned a positive d.\n",
    "#I input 59749 as d for the Decode function. I input the cipher text and run the Decode function.\n",
    "#The Decode function return the list of integers that I input into the Convert_Num function\n",
    "#This also took much longer than the previous example. It took hours and I eventually terminated the process. I didn't have time to work on more advanced factoring, but I think working on that and implementing a factoring function utilizing a variation of the Extended Euclidean Algorithm might have helped. \n",
    "#Running the Convert_Num function gives me the final message. I also at the time still had the print functions in the Decode loop.  I'm sure that didn't help the speed of the process. \n",
    "#Decoded Message: N/A, process ran too long\n",
    "#Final Message: N/A, process ran too long\n",
    "\n",
    "\n",
    "\n",
    "\n"
   ],
   "cell_type": "code",
   "metadata": {},
   "execution_count": null,
   "outputs": []
  },
  {
   "cell_type": "markdown",
   "metadata": {},
   "source": [
    "\n",
    "## Custom Feature ##\n",
    "The last 15 points of the require a custom feature in your project. This is an opportinity for you to explore an RSA or coding topic of interest to you. At this point it is not about points, but exploring advanced ideas relevant to you.  This is also a feature that should be relevant to your programming ability. If you are in 1300, creating a main type function may be enough. If you are an experienced programmer, find a topic to push yourself. \n",
    "\n",
    "\n",
    "Custom Features could one or more of the following:\n",
    "\n",
    "1. A Python \"main\" function that allows a user to \"Get keys/Encode/Decode/Break Codes\" etc... \n",
    "2. An exploration of factoring improvements and analyze how effective they are. Must include some kind of timing analysis and multiple code breaking. A superficial treatment will not recieve full points. Must be throughly tested with excellent investigations to recieve full points.\n",
    "3. A script to read codes from Piazza data. You can copy and paste codes from Piazza into a txt files and then have your script read it. This is a VERY helpful tool for doing the project as well. \n",
    "4. Exploration of advanced factoring alogrithms (see Moodle) Try Pollard's Rho <- super satisfying. (full points if well - impemented with thoughtful examples)\n",
    "5. Advanced complexity analysis. \n",
    "6. Other options available, please ask. \n",
    "\n",
    "The Custom Feature is an important part of the project, and it should be a non-trivial response. \n",
    "Please help organize your Custom Feature by breaking it up into sections - ie. not one long block of text.\n",
    "Mininimally executed, \"dialling it in\" type features will not recieve full points. \n",
    "See below for more detials on grading of this section.\n",
    "\n",
    "\n",
    "\n",
    " \n",
    "\n",
    "\n"
   ]
  },
  {
   "cell_type": "code",
   "execution_count": null,
   "metadata": {},
   "outputs": [],
   "source": []
  },
  {
   "cell_type": "markdown",
   "metadata": {},
   "source": [
    "**Please use the grading guide below to self grade your Custom Feature.**\n",
    "\n",
    "GRADING FOR CUSTOM FEATURE:\n",
    "\n",
    "15 pts  Wow.  It is amazing.\n",
    "        Shows initiative and originality. \n",
    "        You did something extra special and pushed yourself.\n",
    "        You went beyond all expectations \n",
    "        You broke the rules in a creative way. \n",
    "        Your coding and commenting is exceptional.\n",
    "        Excellent \n",
    "\n",
    "10 - 14 points - It is GOOD! \n",
    "        You were a “self starter”. \n",
    "         You did everything  requested. \n",
    "        All expectations met. \n",
    "       \tYou did a very good job. \n",
    "        Good use of commenting.\n",
    "        Shows mastery of skills.\n",
    "\n",
    "5 -10 points  - Okay.\n",
    "        Minimum requirements.\n",
    "        Commenting weak.\n",
    "\n",
    "0 -5 points - It is not finished. \n",
    "          Does meet objectives. \n",
    "            Did not follow directions. \n",
    "            Choose not to do this part (which is a totally fine choice)\n"
   ]
  },
  {
   "cell_type": "markdown",
   "metadata": {},
   "source": [
    "## Self grading of custom feature ##\n",
    "\n",
    "Here in this block\n",
    "\n",
    "Please rate what score out of 15 your custom feature merits given the criteria above:\n",
    "\n",
    "* For example, if you are brand new to programming, using a main function could be an amazing feature - tell me how this helped you move to a new level.\n",
    "* In what ways did YOU push yourself? Did you try something you've never done before?\n",
    "* Alternatively, if you just did not have the time to do the custum feature, that is actually just fine and a reasonable choice for an adult. No judgment."
   ]
  },
  {
   "cell_type": "markdown",
   "metadata": {},
   "source": [
    "## Grading Notes ##\n",
    "\n",
    "*The project will consist of a combination of text and code blocks.\n",
    "\n",
    "*Grading - all code must be well commented. These should be easy to read. Here is a simple guide: https://realpython.com/python-comments-guide/ \n",
    "\n",
    "*See notes in Moodle about comments a\n",
    "\n",
    "*The narrative elements of the project are just as important as the coding.\n",
    "\n",
    "*Do NOT copy code from the internet (or anywhere)\n",
    "\n",
    "*Do not ask questions on stackoverflow or similar etc…\n",
    "\n",
    "*You are expected to have read the honesty notes in the syllabus.\n",
    "\n",
    "*Credit sources you used for additional understanding.\n",
    "\n",
    "*Credit classmates that helped you.\n",
    "\n"
   ]
  },
  {
   "cell_type": "code",
   "execution_count": null,
   "metadata": {},
   "outputs": [],
   "source": []
  }
 ],
 "metadata": {
  "kernelspec": {
   "display_name": "Python 3",
   "language": "python",
   "name": "python3"
  },
  "language_info": {
   "codemirror_mode": {
    "name": "ipython",
    "version": 3
   },
   "file_extension": ".py",
   "mimetype": "text/x-python",
   "name": "python",
   "nbconvert_exporter": "python",
   "pygments_lexer": "ipython3",
   "version": "3.8.6"
  }
 },
 "nbformat": 4,
 "nbformat_minor": 4
}